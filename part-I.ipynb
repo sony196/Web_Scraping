{
 "cells": [
  {
   "cell_type": "markdown",
   "id": "98c33374",
   "metadata": {},
   "source": [
    "Python Assignment "
   ]
  },
  {
   "cell_type": "markdown",
   "id": "546dc5c7",
   "metadata": {},
   "source": [
    "part - I"
   ]
  },
  {
   "cell_type": "code",
   "execution_count": 1,
   "id": "33d911f1",
   "metadata": {},
   "outputs": [],
   "source": [
    "import requests\n",
    "from bs4 import BeautifulSoup\n",
    "import pandas as pd\n",
    "from time import sleep"
   ]
  },
  {
   "cell_type": "code",
   "execution_count": 2,
   "id": "5d777448",
   "metadata": {},
   "outputs": [],
   "source": [
    "headers={'User-Agent':'Mozilla/5.0 (Windows NT 10.0; Win64; x64) AppleWebKit/537.36 (KHTML, like Gecko) Chrome/105.0.0.0 Safari/537.36'}"
   ]
  },
  {
   "cell_type": "code",
   "execution_count": 3,
   "id": "f2f47390",
   "metadata": {},
   "outputs": [],
   "source": [
    "baselink = 'https://www.amazon.in/'"
   ]
  },
  {
   "cell_type": "code",
   "execution_count": 4,
   "id": "a14b3c53",
   "metadata": {},
   "outputs": [],
   "source": [
    "searchquery = 'bags'.replace(' ','+')\n",
    "baseurl = 'https://www.amazon.in/s?k={0}'.format(searchquery)"
   ]
  },
  {
   "cell_type": "code",
   "execution_count": null,
   "id": "69f8cc01",
   "metadata": {
    "scrolled": false
   },
   "outputs": [],
   "source": [
    "items=[] #taking all the columns values into this list\n",
    "asins=[] #taking asin numbers which gives unique values of each product\n",
    "\n",
    "for i in range(1,51): #scarping the data of 50 pages\n",
    "    url = \"https://www.amazon.in/s?k=bags&crid=2M096C61O4MLT&qid=1653308124&sprefix=ba%2Caps%2C283&ref=sr_pg_\"+str(i)\n",
    "    \n",
    "    response=requests.get(url,headers=headers)\n",
    "    \n",
    "    soup = BeautifulSoup(response.content,'html.parser')\n",
    "    \n",
    "    results = soup.find_all('div',{'class':'s-result-item','data-component-type':'s-search-result'})\n",
    "    \n",
    "    for result in results:\n",
    "        productname = result.h2.text  # extracting the product name\n",
    "        asinno = result.attrs['data-asin'] # extracting asin numbers\n",
    "        \n",
    "        asins.append(asinno)\n",
    "        \n",
    "        # finding out the count of reviews\n",
    "        \n",
    "        reviewurl = 'https://www.amazon.in/product-reviews/{0}/ref=cm_cr_dp_d_show_all_btm?ie=UTF8&reviewerType=all_reviews'.format(asinno)\n",
    "        \n",
    "        req = requests.get(reviewurl,headers=headers)\n",
    "        \n",
    "        soupreview=BeautifulSoup(req.content,'html.parser')\n",
    "        \n",
    "        # finding out the price of product \n",
    "        \n",
    "        priceurl = \"https://www.amazon.in/dp/{0}/ref=sr_1_1_sspa?crid=2M096C61O4MLT&keywords=bags&qid=1663926193&sprefix=ba%2Caps%2C283&sr=8-1-spons&psc=1\".format(asinno)\n",
    "        \n",
    "        reqprice = requests.get(priceurl,headers=headers)\n",
    "        \n",
    "        soupprice = BeautifulSoup(reqprice.content,'html.parser')\n",
    "        \n",
    "        try:\n",
    "            review= soupreview.find('div',{'class':'a-row a-spacing-base a-size-base'}).text.split('ratings,',1)[1].strip().replace('with reviews','')\n",
    "            \n",
    "        except AttributeError:\n",
    "            \n",
    "            continue\n",
    "            \n",
    "        try:\n",
    "            rating = result.find('span',{'class':'a-size-base'}).text\n",
    "            \n",
    "        except AttributeError:\n",
    "            \n",
    "            continue\n",
    "            \n",
    "        try:\n",
    "            price1 = soupprice.find('span',{'class':'a-price-whole'}).text.replace(',','')\n",
    "            price2= soupprice.find('span',{'class':'a-price-fraction'}).text\n",
    "            price = float(price1+price2)\n",
    "            producturl = 'https://amazon.com'+result.h2.a['href']\n",
    "            \n",
    "        except AttributeError:\n",
    "            \n",
    "            continue\n",
    "            \n",
    "        items.append([producturl,productname,price,rating,review])\n",
    "        \n",
    "    sleep(1.5)"
   ]
  },
  {
   "cell_type": "code",
   "execution_count": null,
   "id": "0986074e",
   "metadata": {},
   "outputs": [],
   "source": [
    "df = pd.DataFrame(items,columns=['producturl','productnames','prices','ratings','reviews'])\n",
    "df.to_csv('part-I.csv',index=False)"
   ]
  }
 ],
 "metadata": {
  "kernelspec": {
   "display_name": "Python 3 (ipykernel)",
   "language": "python",
   "name": "python3"
  },
  "language_info": {
   "codemirror_mode": {
    "name": "ipython",
    "version": 3
   },
   "file_extension": ".py",
   "mimetype": "text/x-python",
   "name": "python",
   "nbconvert_exporter": "python",
   "pygments_lexer": "ipython3",
   "version": "3.9.13"
  }
 },
 "nbformat": 4,
 "nbformat_minor": 5
}
