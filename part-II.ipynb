{
 "cells": [
  {
   "cell_type": "code",
   "execution_count": 1,
   "id": "9db713b0",
   "metadata": {
    "scrolled": true
   },
   "outputs": [],
   "source": [
    "import pandas as pd\n",
    "import numpy as np\n",
    "import requests\n",
    "from bs4 import BeautifulSoup\n",
    "from time import sleep"
   ]
  },
  {
   "cell_type": "code",
   "execution_count": 2,
   "id": "7526cf9e",
   "metadata": {
    "scrolled": true
   },
   "outputs": [],
   "source": [
    "headers={'User-Agent':'Mozilla/5.0 (Windows NT 10.0; Win64; x64) AppleWebKit/537.36 (KHTML, like Gecko) Chrome/105.0.0.0 Safari/537.36'}"
   ]
  },
  {
   "cell_type": "code",
   "execution_count": 4,
   "id": "70e54caa",
   "metadata": {
    "scrolled": true
   },
   "outputs": [],
   "source": [
    "df = pd.read_csv('part-1.csv')"
   ]
  },
  {
   "cell_type": "code",
   "execution_count": 5,
   "id": "fe9764b7",
   "metadata": {
    "scrolled": true
   },
   "outputs": [],
   "source": [
    "urls = df['producturl']"
   ]
  },
  {
   "cell_type": "code",
   "execution_count": 6,
   "id": "3592827b",
   "metadata": {},
   "outputs": [
    {
     "data": {
      "text/plain": [
       "0      https://amazon.com/sspa/click?ie=UTF8&spc=MTo1...\n",
       "1      https://amazon.com/sspa/click?ie=UTF8&spc=MTo1...\n",
       "2      https://amazon.com/American-Tourister-AMT-SCH-...\n",
       "3      https://amazon.com/Half-Moon-Waterproof-Backpa...\n",
       "4      https://amazon.com/Martucci-Casual-Travelling-...\n",
       "                             ...                        \n",
       "499    https://amazon.com/TRUE-HUMAN-Anti-Theft-backp...\n",
       "500    https://amazon.com/Fur-Jaden-Black-Waterproof-...\n",
       "501    https://amazon.com/AirCase-C34-Laptop-Backpack...\n",
       "502    https://amazon.com/Number-Backpack-Compartment...\n",
       "503    https://amazon.com/Lenovo-Laptop-Backpack-15-6...\n",
       "Name: producturl, Length: 504, dtype: object"
      ]
     },
     "execution_count": 6,
     "metadata": {},
     "output_type": "execute_result"
    }
   ],
   "source": [
    "urls"
   ]
  },
  {
   "cell_type": "code",
   "execution_count": 7,
   "id": "ff989f6b",
   "metadata": {
    "scrolled": false
   },
   "outputs": [],
   "source": [
    "links=[]\n",
    "for i in urls:\n",
    "    links.append(i)"
   ]
  },
  {
   "cell_type": "code",
   "execution_count": 8,
   "id": "36402a28",
   "metadata": {
    "scrolled": false
   },
   "outputs": [
    {
     "name": "stderr",
     "output_type": "stream",
     "text": [
      "\n",
      "KeyboardInterrupt\n",
      "\n"
     ]
    }
   ],
   "source": [
    "items=[]  #for storing elements\n",
    "\n",
    "\n",
    "for i in links:\n",
    "    link = requests.get(i,headers=headers)\n",
    "    content = BeautifulSoup(link.text,'html.parser')\n",
    "    \n",
    "    #extracting the manufacturer and ASIN number details of the product\n",
    "    try:\n",
    "        table=content.select(\"table#productDetails_detailBullets_sections1\")[0]\n",
    "        table_df = pd.read_html(str(table))[0]\n",
    "        df_table = table_df.reset_index(drop=True)\n",
    "        for ind,row in df_table.iterrows():\n",
    "            if(row[0]=='Manufacturer'):\n",
    "                manufact = row[1]\n",
    "        for ind,row in df_table.iterrows():\n",
    "            if(row[0]=='ASIN'):\n",
    "                assino = row[1]\n",
    "    except:\n",
    "        continue\n",
    "        \n",
    "        \n",
    "    #Extracting the product information\n",
    "    product_info = content.find('div',id='productDescription')\n",
    "    info = product_info.find('span').text\n",
    "    \n",
    "    #adding extracted elements in the items list\n",
    "    items.append([info,manufact,assino])\n",
    "    \n",
    "    "
   ]
  },
  {
   "cell_type": "code",
   "execution_count": 18,
   "id": "05d919a8",
   "metadata": {},
   "outputs": [],
   "source": [
    "df =  pd.DataFrame(items,columns=['product_description','Manufacturer','ASIN'])\n",
    "df.to_csv('part-2.csv',index=False)"
   ]
  }
 ],
 "metadata": {
  "kernelspec": {
   "display_name": "Python 3 (ipykernel)",
   "language": "python",
   "name": "python3"
  },
  "language_info": {
   "codemirror_mode": {
    "name": "ipython",
    "version": 3
   },
   "file_extension": ".py",
   "mimetype": "text/x-python",
   "name": "python",
   "nbconvert_exporter": "python",
   "pygments_lexer": "ipython3",
   "version": "3.9.13"
  }
 },
 "nbformat": 4,
 "nbformat_minor": 5
}
